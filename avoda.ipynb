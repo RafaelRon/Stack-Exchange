{
 "cells": [
  {
   "cell_type": "markdown",
   "id": "fa074297",
   "metadata": {},
   "source": [
    "# Stack Exc. Data Analysis"
   ]
  },
  {
   "cell_type": "code",
   "execution_count": 25,
   "id": "c87bbcf8",
   "metadata": {},
   "outputs": [],
   "source": [
    "import pandas as pd\n",
    "import numpy as np\n",
    "import datetime as dt\n",
    "import matplotlib.pyplot as plt"
   ]
  },
  {
   "cell_type": "code",
   "execution_count": 48,
   "id": "6d9a8e7b",
   "metadata": {},
   "outputs": [],
   "source": [
    "comments=pd.read_csv(r'C:\\Users\\רפאל רון\\Desktop\\JB-DATA ANALYST\\Data Analyst\\Python\\Stack Exchange\\comments.csv',\n",
    "                     delimiter = \",\",\n",
    "                     header = 0,\n",
    "                     names = [\"Id\", \"PostId\", \"Text\", \"CreationDate\", \"UserId\"],\n",
    "                     dtype = {\"Id\":int,\n",
    "                     \"PostId\":int,\n",
    "                     \"Text\":str,\n",
    "                     \"UserId\":int},\n",
    "                     index_col = \"Id\",\n",
    "                     parse_dates = [\"CreationDate\"])"
   ]
  },
  {
   "cell_type": "code",
   "execution_count": 47,
   "id": "df2b2115",
   "metadata": {},
   "outputs": [],
   "source": [
    "posts=pd.read_csv(r'C:\\Users\\רפאל רון\\Desktop\\JB-DATA ANALYST\\Data Analyst\\Python\\Stack Exchange\\Posts.csv',\n",
    "                 delimiter = \",\",\n",
    "                 header = 0,\n",
    "                 names = [\"Id\", \"CreationDate\", \"Score\", \"ViewCount\", \"Body\", \"OwnerUserId\", \"LastEditorUserId\", \"LastEditDate\", \"LastActivityDate\", \"Title\", \"Tags\", \"ClosedDate\"],\n",
    "                 dtype = {\"Id\":int,\n",
    "                 \"Score\":int,\n",
    "                 \"ViewCount\":str,\n",
    "                 \"Body\":str,\n",
    "                 \"OwnerUserId\":int,\n",
    "                 \"LastEditorUserId\":int,\n",
    "                 \"Title\":str,\n",
    "                 \"Tags\":str},\n",
    "                 index_col = \"Id\",\n",
    "                 parse_dates = [\"CreationDate\" , \"LastEditDate\", \"LastActivityDate\", \"ClosedDate\"])"
   ]
  },
  {
   "cell_type": "code",
   "execution_count": 46,
   "id": "f764a4bc",
   "metadata": {},
   "outputs": [],
   "source": [
    "users=pd.read_csv(r'C:\\Users\\רפאל רון\\Desktop\\JB-DATA ANALYST\\Data Analyst\\Python\\Stack Exchange\\Users.csv',\n",
    "                 delimiter = \",\",\n",
    "                 header = 0,\n",
    "                 names = [\"Id\", \"Reputation\", \"CreationDate\", \"DisplayName\", \"LastAccessDate\", \"WebsiteUrl\", \"Location\", \"Age\", \"AboutMe\", \"Views\", \"UpVotes\", \"DownVotes\"],\n",
    "                 dtype = {\"Id\":int,\n",
    "                 \"Reputation\":int,\n",
    "                 \"DisplayName\":str,\n",
    "                 \"WebsiteUrl\":str,\n",
    "                 \"Location\":str,\n",
    "                 \"Age\":float, \n",
    "                 \"AboutMe\":str,\n",
    "                 \"Views\":int,\n",
    "                 \"UpVotes\":int,\n",
    "                 \"DownVotes\":int},\n",
    "                 index_col = \"Id\",\n",
    "                 parse_dates = [\"CreationDate\" , \"LastAccessDate\"])"
   ]
  },
  {
   "cell_type": "code",
   "execution_count": 45,
   "id": "0d5e651e",
   "metadata": {},
   "outputs": [],
   "source": [
    "votes=pd.read_csv(r'C:\\Users\\רפאל רון\\Desktop\\JB-DATA ANALYST\\Data Analyst\\Python\\Stack Exchange\\Votes.csv',\n",
    "                 delimiter = \",\",\n",
    "                 header = 0,\n",
    "                 names = [\"Id\", \"PostId\", \"CreationDate\", \"UserId\"],\n",
    "                 dtype = {\"Id\":int,\"PostId\":int,\"UserId\":int},\n",
    "                 index_col = \"Id\",\n",
    "                 parse_dates = [\"CreationDate\" ])"
   ]
  },
  {
   "cell_type": "markdown",
   "id": "def22104",
   "metadata": {},
   "source": [
    "#### basic analysis"
   ]
  },
  {
   "cell_type": "markdown",
   "id": "5974a277",
   "metadata": {},
   "source": [
    "###### 1.how many post were made every year?"
   ]
  },
  {
   "cell_type": "code",
   "execution_count": 54,
   "id": "27874591",
   "metadata": {},
   "outputs": [
    {
     "data": {
      "text/html": [
       "<div>\n",
       "<style scoped>\n",
       "    .dataframe tbody tr th:only-of-type {\n",
       "        vertical-align: middle;\n",
       "    }\n",
       "\n",
       "    .dataframe tbody tr th {\n",
       "        vertical-align: top;\n",
       "    }\n",
       "\n",
       "    .dataframe thead th {\n",
       "        text-align: right;\n",
       "    }\n",
       "</style>\n",
       "<table border=\"1\" class=\"dataframe\">\n",
       "  <thead>\n",
       "    <tr style=\"text-align: right;\">\n",
       "      <th></th>\n",
       "      <th>Title</th>\n",
       "    </tr>\n",
       "    <tr>\n",
       "      <th>CreationDate</th>\n",
       "      <th></th>\n",
       "    </tr>\n",
       "  </thead>\n",
       "  <tbody>\n",
       "    <tr>\n",
       "      <th>2011</th>\n",
       "      <td>156</td>\n",
       "    </tr>\n",
       "    <tr>\n",
       "      <th>2012</th>\n",
       "      <td>1065</td>\n",
       "    </tr>\n",
       "    <tr>\n",
       "      <th>2013</th>\n",
       "      <td>1018</td>\n",
       "    </tr>\n",
       "  </tbody>\n",
       "</table>\n",
       "</div>"
      ],
      "text/plain": [
       "              Title\n",
       "CreationDate       \n",
       "2011            156\n",
       "2012           1065\n",
       "2013           1018"
      ]
     },
     "execution_count": 54,
     "metadata": {},
     "output_type": "execute_result"
    }
   ],
   "source": [
    "posts.groupby(posts['CreationDate'].dt.year)[['Title']].count()"
   ]
  },
  {
   "cell_type": "markdown",
   "id": "09d5e127",
   "metadata": {},
   "source": [
    "#### 2. How many votes were made in each day of the week (Sunday,etc..)\n"
   ]
  },
  {
   "cell_type": "code",
   "execution_count": 57,
   "id": "dcfeece3",
   "metadata": {},
   "outputs": [],
   "source": [
    "def Name_of_day (day_number):\n",
    "    DayName= [\"Monday\", \"Tuesday\", \"Wednesday\", \"Thursday\", \"Friday\", \"Saturday\", \"Sunday\"]\n",
    "    return DayName[day_number]"
   ]
  },
  {
   "cell_type": "code",
   "execution_count": 59,
   "id": "e288ac11",
   "metadata": {},
   "outputs": [],
   "source": [
    "votes[\"DayOfWeek\"] = votes[\"CreationDate\"].dt.dayofweek.apply(Name_of_day)"
   ]
  },
  {
   "cell_type": "code",
   "execution_count": 60,
   "id": "2b1e352b",
   "metadata": {},
   "outputs": [
    {
     "data": {
      "text/html": [
       "<div>\n",
       "<style scoped>\n",
       "    .dataframe tbody tr th:only-of-type {\n",
       "        vertical-align: middle;\n",
       "    }\n",
       "\n",
       "    .dataframe tbody tr th {\n",
       "        vertical-align: top;\n",
       "    }\n",
       "\n",
       "    .dataframe thead th {\n",
       "        text-align: right;\n",
       "    }\n",
       "</style>\n",
       "<table border=\"1\" class=\"dataframe\">\n",
       "  <thead>\n",
       "    <tr style=\"text-align: right;\">\n",
       "      <th></th>\n",
       "      <th>VotesCount</th>\n",
       "    </tr>\n",
       "    <tr>\n",
       "      <th>DayOfWeek</th>\n",
       "      <th></th>\n",
       "    </tr>\n",
       "  </thead>\n",
       "  <tbody>\n",
       "    <tr>\n",
       "      <th>Thursday</th>\n",
       "      <td>869</td>\n",
       "    </tr>\n",
       "    <tr>\n",
       "      <th>Friday</th>\n",
       "      <td>735</td>\n",
       "    </tr>\n",
       "    <tr>\n",
       "      <th>Wednesday</th>\n",
       "      <td>554</td>\n",
       "    </tr>\n",
       "    <tr>\n",
       "      <th>Saturday</th>\n",
       "      <td>376</td>\n",
       "    </tr>\n",
       "    <tr>\n",
       "      <th>Tuesday</th>\n",
       "      <td>354</td>\n",
       "    </tr>\n",
       "    <tr>\n",
       "      <th>Monday</th>\n",
       "      <td>282</td>\n",
       "    </tr>\n",
       "    <tr>\n",
       "      <th>Sunday</th>\n",
       "      <td>189</td>\n",
       "    </tr>\n",
       "  </tbody>\n",
       "</table>\n",
       "</div>"
      ],
      "text/plain": [
       "           VotesCount\n",
       "DayOfWeek            \n",
       "Thursday          869\n",
       "Friday            735\n",
       "Wednesday         554\n",
       "Saturday          376\n",
       "Tuesday           354\n",
       "Monday            282\n",
       "Sunday            189"
      ]
     },
     "execution_count": 60,
     "metadata": {},
     "output_type": "execute_result"
    }
   ],
   "source": [
    "votes.groupby(\"DayOfWeek\")[\"PostId\"].count().to_frame().rename(columns={\"PostId\":\"VotesCount\"})\\\n",
    ".sort_values(\"VotesCount\", ascending = False)"
   ]
  },
  {
   "cell_type": "markdown",
   "id": "6d892806",
   "metadata": {},
   "source": [
    "#### 3.List all comments created on September 19th, 2012"
   ]
  },
  {
   "cell_type": "code",
   "execution_count": 62,
   "id": "61e5e551",
   "metadata": {},
   "outputs": [],
   "source": [
    "comments[\"CreationDate\"] = pd.to_datetime(comments[\"CreationDate\"])"
   ]
  },
  {
   "cell_type": "code",
   "execution_count": 63,
   "id": "1279058c",
   "metadata": {},
   "outputs": [],
   "source": [
    "ezer=(comments[\"CreationDate\"] > \"2012-09-19\") & (comments[\"CreationDate\"] < \"2012-09-20\")"
   ]
  },
  {
   "cell_type": "code",
   "execution_count": 64,
   "id": "6566ff27",
   "metadata": {},
   "outputs": [
    {
     "data": {
      "text/html": [
       "<div>\n",
       "<style scoped>\n",
       "    .dataframe tbody tr th:only-of-type {\n",
       "        vertical-align: middle;\n",
       "    }\n",
       "\n",
       "    .dataframe tbody tr th {\n",
       "        vertical-align: top;\n",
       "    }\n",
       "\n",
       "    .dataframe thead th {\n",
       "        text-align: right;\n",
       "    }\n",
       "</style>\n",
       "<table border=\"1\" class=\"dataframe\">\n",
       "  <thead>\n",
       "    <tr style=\"text-align: right;\">\n",
       "      <th></th>\n",
       "      <th>PostId</th>\n",
       "      <th>Text</th>\n",
       "      <th>CreationDate</th>\n",
       "      <th>UserId</th>\n",
       "    </tr>\n",
       "    <tr>\n",
       "      <th>Id</th>\n",
       "      <th></th>\n",
       "      <th></th>\n",
       "      <th></th>\n",
       "      <th></th>\n",
       "    </tr>\n",
       "  </thead>\n",
       "  <tbody>\n",
       "    <tr>\n",
       "      <th>3476</th>\n",
       "      <td>887</td>\n",
       "      <td>I had the same thoughts. I'm wondering if ther...</td>\n",
       "      <td>2012-09-19 10:34:12.983</td>\n",
       "      <td>233</td>\n",
       "    </tr>\n",
       "    <tr>\n",
       "      <th>3623</th>\n",
       "      <td>890</td>\n",
       "      <td>hmmm he's described as \"an over-the-top public...</td>\n",
       "      <td>2012-09-19 18:23:37.193</td>\n",
       "      <td>126</td>\n",
       "    </tr>\n",
       "  </tbody>\n",
       "</table>\n",
       "</div>"
      ],
      "text/plain": [
       "      PostId                                               Text  \\\n",
       "Id                                                                \n",
       "3476     887  I had the same thoughts. I'm wondering if ther...   \n",
       "3623     890  hmmm he's described as \"an over-the-top public...   \n",
       "\n",
       "                CreationDate  UserId  \n",
       "Id                                    \n",
       "3476 2012-09-19 10:34:12.983     233  \n",
       "3623 2012-09-19 18:23:37.193     126  "
      ]
     },
     "execution_count": 64,
     "metadata": {},
     "output_type": "execute_result"
    }
   ],
   "source": [
    "comments[ezer]"
   ]
  },
  {
   "cell_type": "markdown",
   "id": "92a6a1bb",
   "metadata": {},
   "source": [
    "##### 4. List all users under the age of 33, living in London"
   ]
  },
  {
   "cell_type": "code",
   "execution_count": 65,
   "id": "82a676c2",
   "metadata": {},
   "outputs": [],
   "source": [
    "ezer_empty=~users['Location'].isnull()&~users['Age'].isnull()"
   ]
  },
  {
   "cell_type": "code",
   "execution_count": 66,
   "id": "f8b834c0",
   "metadata": {},
   "outputs": [],
   "source": [
    "ezer_age_place=users['Location'].str.contains('London')&(users['Age']<33)"
   ]
  },
  {
   "cell_type": "code",
   "execution_count": 68,
   "id": "07daa17e",
   "metadata": {},
   "outputs": [
    {
     "data": {
      "text/html": [
       "<div>\n",
       "<style scoped>\n",
       "    .dataframe tbody tr th:only-of-type {\n",
       "        vertical-align: middle;\n",
       "    }\n",
       "\n",
       "    .dataframe tbody tr th {\n",
       "        vertical-align: top;\n",
       "    }\n",
       "\n",
       "    .dataframe thead th {\n",
       "        text-align: right;\n",
       "    }\n",
       "</style>\n",
       "<table border=\"1\" class=\"dataframe\">\n",
       "  <thead>\n",
       "    <tr style=\"text-align: right;\">\n",
       "      <th></th>\n",
       "      <th>Reputation</th>\n",
       "      <th>CreationDate</th>\n",
       "      <th>DisplayName</th>\n",
       "      <th>LastAccessDate</th>\n",
       "      <th>WebsiteUrl</th>\n",
       "      <th>Location</th>\n",
       "      <th>Age</th>\n",
       "      <th>AboutMe</th>\n",
       "      <th>Views</th>\n",
       "      <th>UpVotes</th>\n",
       "      <th>DownVotes</th>\n",
       "    </tr>\n",
       "    <tr>\n",
       "      <th>Id</th>\n",
       "      <th></th>\n",
       "      <th></th>\n",
       "      <th></th>\n",
       "      <th></th>\n",
       "      <th></th>\n",
       "      <th></th>\n",
       "      <th></th>\n",
       "      <th></th>\n",
       "      <th></th>\n",
       "      <th></th>\n",
       "      <th></th>\n",
       "    </tr>\n",
       "  </thead>\n",
       "  <tbody>\n",
       "    <tr>\n",
       "      <th>27</th>\n",
       "      <td>101</td>\n",
       "      <td>2011-11-30 18:58:00.620</td>\n",
       "      <td>Noldorin</td>\n",
       "      <td>2011-12-27 00:54:12.993</td>\n",
       "      <td>http://noldorin.com/</td>\n",
       "      <td>London, United Kingdom</td>\n",
       "      <td>24.0</td>\n",
       "      <td>&lt;p&gt;entrepreneur; graduate in mathematics / the...</td>\n",
       "      <td>0</td>\n",
       "      <td>0</td>\n",
       "      <td>0</td>\n",
       "    </tr>\n",
       "  </tbody>\n",
       "</table>\n",
       "</div>"
      ],
      "text/plain": [
       "    Reputation            CreationDate DisplayName          LastAccessDate  \\\n",
       "Id                                                                           \n",
       "27         101 2011-11-30 18:58:00.620    Noldorin 2011-12-27 00:54:12.993   \n",
       "\n",
       "              WebsiteUrl                Location   Age  \\\n",
       "Id                                                       \n",
       "27  http://noldorin.com/  London, United Kingdom  24.0   \n",
       "\n",
       "                                              AboutMe  Views  UpVotes  \\\n",
       "Id                                                                      \n",
       "27  <p>entrepreneur; graduate in mathematics / the...      0        0   \n",
       "\n",
       "    DownVotes  \n",
       "Id             \n",
       "27          0  "
      ]
     },
     "execution_count": 68,
     "metadata": {},
     "output_type": "execute_result"
    }
   ],
   "source": [
    "users[ezer_empty&ezer_age_place].head(1)"
   ]
  },
  {
   "cell_type": "markdown",
   "id": "c696bd6d",
   "metadata": {},
   "source": [
    "### Advanced Analysis"
   ]
  },
  {
   "cell_type": "markdown",
   "id": "0f802064",
   "metadata": {},
   "source": [
    "##### 1.Display the number of votes for each post title"
   ]
  },
  {
   "cell_type": "code",
   "execution_count": 70,
   "id": "7968ea65",
   "metadata": {},
   "outputs": [],
   "source": [
    "join_posts_votes=posts.merge(votes, how = \"left\", left_index=True, right_on = \"PostId\")"
   ]
  },
  {
   "cell_type": "code",
   "execution_count": 73,
   "id": "fa5bd789",
   "metadata": {},
   "outputs": [
    {
     "data": {
      "text/html": [
       "<div>\n",
       "<style scoped>\n",
       "    .dataframe tbody tr th:only-of-type {\n",
       "        vertical-align: middle;\n",
       "    }\n",
       "\n",
       "    .dataframe tbody tr th {\n",
       "        vertical-align: top;\n",
       "    }\n",
       "\n",
       "    .dataframe thead th {\n",
       "        text-align: right;\n",
       "    }\n",
       "</style>\n",
       "<table border=\"1\" class=\"dataframe\">\n",
       "  <thead>\n",
       "    <tr style=\"text-align: right;\">\n",
       "      <th></th>\n",
       "      <th>CreationDate_x</th>\n",
       "      <th>Score</th>\n",
       "      <th>ViewCount</th>\n",
       "      <th>Body</th>\n",
       "      <th>OwnerUserId</th>\n",
       "      <th>LastEditorUserId</th>\n",
       "      <th>LastEditDate</th>\n",
       "      <th>LastActivityDate</th>\n",
       "      <th>Title</th>\n",
       "      <th>Tags</th>\n",
       "      <th>ClosedDate</th>\n",
       "      <th>PostId</th>\n",
       "      <th>CreationDate_y</th>\n",
       "      <th>UserId</th>\n",
       "      <th>DayOfWeek</th>\n",
       "    </tr>\n",
       "  </thead>\n",
       "  <tbody>\n",
       "    <tr>\n",
       "      <th>3.0</th>\n",
       "      <td>2011-11-30 19:15:54.070</td>\n",
       "      <td>25</td>\n",
       "      <td>1526</td>\n",
       "      <td>&lt;p&gt;Some comedian/actors are given creative fre...</td>\n",
       "      <td>1562</td>\n",
       "      <td>532</td>\n",
       "      <td>2013-09-25 14:15:14.257</td>\n",
       "      <td>2013-09-25 14:15:14.257</td>\n",
       "      <td>To what extent were the actors in Wedding Cras...</td>\n",
       "      <td>&lt;wedding-crashers&gt;</td>\n",
       "      <td>2011-12-24 19:15:54.070</td>\n",
       "      <td>1</td>\n",
       "      <td>2011-11-30</td>\n",
       "      <td>231.0</td>\n",
       "      <td>Wednesday</td>\n",
       "    </tr>\n",
       "  </tbody>\n",
       "</table>\n",
       "</div>"
      ],
      "text/plain": [
       "             CreationDate_x  Score ViewCount  \\\n",
       "3.0 2011-11-30 19:15:54.070     25      1526   \n",
       "\n",
       "                                                  Body  OwnerUserId  \\\n",
       "3.0  <p>Some comedian/actors are given creative fre...         1562   \n",
       "\n",
       "     LastEditorUserId            LastEditDate        LastActivityDate  \\\n",
       "3.0               532 2013-09-25 14:15:14.257 2013-09-25 14:15:14.257   \n",
       "\n",
       "                                                 Title                Tags  \\\n",
       "3.0  To what extent were the actors in Wedding Cras...  <wedding-crashers>   \n",
       "\n",
       "                 ClosedDate  PostId CreationDate_y  UserId  DayOfWeek  \n",
       "3.0 2011-12-24 19:15:54.070       1     2011-11-30   231.0  Wednesday  "
      ]
     },
     "execution_count": 73,
     "metadata": {},
     "output_type": "execute_result"
    }
   ],
   "source": [
    "join_posts_votes.head(1)"
   ]
  },
  {
   "cell_type": "code",
   "execution_count": 80,
   "id": "51c5912a",
   "metadata": {},
   "outputs": [
    {
     "data": {
      "text/html": [
       "<div>\n",
       "<style scoped>\n",
       "    .dataframe tbody tr th:only-of-type {\n",
       "        vertical-align: middle;\n",
       "    }\n",
       "\n",
       "    .dataframe tbody tr th {\n",
       "        vertical-align: top;\n",
       "    }\n",
       "\n",
       "    .dataframe thead th {\n",
       "        text-align: right;\n",
       "    }\n",
       "</style>\n",
       "<table border=\"1\" class=\"dataframe\">\n",
       "  <thead>\n",
       "    <tr style=\"text-align: right;\">\n",
       "      <th></th>\n",
       "      <th>VotesCount</th>\n",
       "    </tr>\n",
       "    <tr>\n",
       "      <th>Title</th>\n",
       "      <th></th>\n",
       "    </tr>\n",
       "  </thead>\n",
       "  <tbody>\n",
       "    <tr>\n",
       "      <th>Have there been other candidates to play Jack Reacher?</th>\n",
       "      <td>27</td>\n",
       "    </tr>\n",
       "    <tr>\n",
       "      <th>Where did the speaking-disease come from?</th>\n",
       "      <td>26</td>\n",
       "    </tr>\n",
       "    <tr>\n",
       "      <th>Was Disney's The Black Hole the last film to feature an overture?</th>\n",
       "      <td>26</td>\n",
       "    </tr>\n",
       "    <tr>\n",
       "      <th>In The Departed, did the FBI know about the mole in the police department and did they interfere with the investigation?</th>\n",
       "      <td>25</td>\n",
       "    </tr>\n",
       "    <tr>\n",
       "      <th>Why does Harry only make use of time travel in The Prisoner of Azkaban?</th>\n",
       "      <td>23</td>\n",
       "    </tr>\n",
       "  </tbody>\n",
       "</table>\n",
       "</div>"
      ],
      "text/plain": [
       "                                                    VotesCount\n",
       "Title                                                         \n",
       "Have there been other candidates to play Jack R...          27\n",
       "Where did the speaking-disease come from?                   26\n",
       "Was Disney's The Black Hole the last film to fe...          26\n",
       "In The Departed, did the FBI know about the mol...          25\n",
       "Why does Harry only make use of time travel in ...          23"
      ]
     },
     "execution_count": 80,
     "metadata": {},
     "output_type": "execute_result"
    }
   ],
   "source": [
    "join_posts_votes.groupby(\"Title\")[\"Title\"].count().to_frame().rename(columns = {\"Title\":\"VotesCount\"}).sort_values(\"VotesCount\", ascending = False).head()"
   ]
  },
  {
   "cell_type": "markdown",
   "id": "2f33ebd3",
   "metadata": {},
   "source": [
    "#### 2. Display posts with comments created by users living in the same location as the post creator"
   ]
  },
  {
   "cell_type": "code",
   "execution_count": 82,
   "id": "59b9a179",
   "metadata": {},
   "outputs": [],
   "source": [
    "comments.rename(columns={\"UserId\":\"CommentUserId\"}, inplace=True)\n",
    "posts_comments = posts.merge(comments, how='inner', left_index=True,right_on='PostId')[[\"Title\",\"OwnerUserId\",\"CommentUserId\"]]"
   ]
  },
  {
   "cell_type": "code",
   "execution_count": 84,
   "id": "11828938",
   "metadata": {},
   "outputs": [],
   "source": [
    "posts_comments_users_p = posts_comments.merge(users, how='inner', left_on='OwnerUserId', right_index=True)\\\n",
    "[[\"Title\",\"OwnerUserId\",\"CommentUserId\", \"Location\"]].rename(columns={\"Location\":\"PostCreatorLocation\"})"
   ]
  },
  {
   "cell_type": "code",
   "execution_count": 85,
   "id": "658ad12f",
   "metadata": {},
   "outputs": [],
   "source": [
    "posts_comments_users_p_users_c = posts_comments_users_p.merge(users, how='inner', left_on='CommentUserId', right_index=True)\\\n",
    "[[\"Title\",\"OwnerUserId\",\"CommentUserId\", \"PostCreatorLocation\", \"Location\"]].rename(columns={\"Location\":\"commentCreatorLocation\"})"
   ]
  },
  {
   "cell_type": "code",
   "execution_count": 91,
   "id": "3db762c2",
   "metadata": {},
   "outputs": [],
   "source": [
    "ezer = posts_comments_users_p_users_c[\"PostCreatorLocation\"]==posts_comments_users_p_users_c[\"commentCreatorLocation\"]"
   ]
  },
  {
   "cell_type": "code",
   "execution_count": 92,
   "id": "ed75171e",
   "metadata": {},
   "outputs": [
    {
     "data": {
      "text/html": [
       "<div>\n",
       "<style scoped>\n",
       "    .dataframe tbody tr th:only-of-type {\n",
       "        vertical-align: middle;\n",
       "    }\n",
       "\n",
       "    .dataframe tbody tr th {\n",
       "        vertical-align: top;\n",
       "    }\n",
       "\n",
       "    .dataframe thead th {\n",
       "        text-align: right;\n",
       "    }\n",
       "</style>\n",
       "<table border=\"1\" class=\"dataframe\">\n",
       "  <thead>\n",
       "    <tr style=\"text-align: right;\">\n",
       "      <th></th>\n",
       "      <th>Title</th>\n",
       "      <th>OwnerUserId</th>\n",
       "      <th>CommentUserId</th>\n",
       "      <th>PostCreatorLocation</th>\n",
       "      <th>commentCreatorLocation</th>\n",
       "    </tr>\n",
       "    <tr>\n",
       "      <th>Id</th>\n",
       "      <th></th>\n",
       "      <th></th>\n",
       "      <th></th>\n",
       "      <th></th>\n",
       "      <th></th>\n",
       "    </tr>\n",
       "  </thead>\n",
       "  <tbody>\n",
       "    <tr>\n",
       "      <th>1668</th>\n",
       "      <td>Was Monk's mother also OCD?</td>\n",
       "      <td>52</td>\n",
       "      <td>52</td>\n",
       "      <td>Missouri</td>\n",
       "      <td>Missouri</td>\n",
       "    </tr>\n",
       "    <tr>\n",
       "      <th>30</th>\n",
       "      <td>Thriller about a group of kidnappers wearing S...</td>\n",
       "      <td>1312</td>\n",
       "      <td>1312</td>\n",
       "      <td>Sydney, Australia</td>\n",
       "      <td>Sydney, Australia</td>\n",
       "    </tr>\n",
       "    <tr>\n",
       "      <th>2726</th>\n",
       "      <td>What is the Traitor's Motive?</td>\n",
       "      <td>1590</td>\n",
       "      <td>535</td>\n",
       "      <td>Canada</td>\n",
       "      <td>Canada</td>\n",
       "    </tr>\n",
       "    <tr>\n",
       "      <th>3809</th>\n",
       "      <td>Clarification about closing a loop in The Looper</td>\n",
       "      <td>1632</td>\n",
       "      <td>293</td>\n",
       "      <td>Sweden</td>\n",
       "      <td>Sweden</td>\n",
       "    </tr>\n",
       "    <tr>\n",
       "      <th>750</th>\n",
       "      <td>Is there more to Gandalf and Galadriel's relat...</td>\n",
       "      <td>835</td>\n",
       "      <td>1221</td>\n",
       "      <td>Sweden</td>\n",
       "      <td>Sweden</td>\n",
       "    </tr>\n",
       "  </tbody>\n",
       "</table>\n",
       "</div>"
      ],
      "text/plain": [
       "                                                  Title  OwnerUserId  \\\n",
       "Id                                                                     \n",
       "1668                        Was Monk's mother also OCD?           52   \n",
       "30    Thriller about a group of kidnappers wearing S...         1312   \n",
       "2726                      What is the Traitor's Motive?         1590   \n",
       "3809   Clarification about closing a loop in The Looper         1632   \n",
       "750   Is there more to Gandalf and Galadriel's relat...          835   \n",
       "\n",
       "      CommentUserId PostCreatorLocation commentCreatorLocation  \n",
       "Id                                                              \n",
       "1668             52            Missouri               Missouri  \n",
       "30             1312   Sydney, Australia      Sydney, Australia  \n",
       "2726            535              Canada                 Canada  \n",
       "3809            293              Sweden                 Sweden  \n",
       "750            1221              Sweden                 Sweden  "
      ]
     },
     "execution_count": 92,
     "metadata": {},
     "output_type": "execute_result"
    }
   ],
   "source": [
    "posts_comments_users_p_users_c[ezer]"
   ]
  },
  {
   "cell_type": "markdown",
   "id": "b8f9711b",
   "metadata": {},
   "source": [
    "#### 3.How many users have never voted ?"
   ]
  },
  {
   "cell_type": "code",
   "execution_count": 95,
   "id": "098d40ec",
   "metadata": {},
   "outputs": [],
   "source": [
    "users_votes=users.merge(votes, how = \"left\", left_index = True,right_on='UserId')"
   ]
  },
  {
   "cell_type": "code",
   "execution_count": 96,
   "id": "f5a9c43a",
   "metadata": {},
   "outputs": [
    {
     "data": {
      "text/plain": [
       "355"
      ]
     },
     "execution_count": 96,
     "metadata": {},
     "output_type": "execute_result"
    }
   ],
   "source": [
    "users_votes[users_votes[\"PostId\"].isnull()][\"DisplayName\"].count()"
   ]
  },
  {
   "cell_type": "markdown",
   "id": "4362f74b",
   "metadata": {},
   "source": [
    "##### 4. Display all posts having the highest amount of comments"
   ]
  },
  {
   "cell_type": "code",
   "execution_count": 103,
   "id": "8e121084",
   "metadata": {},
   "outputs": [],
   "source": [
    "posts_comments=posts.merge(comments, how = \"inner\", left_index = True, right_on = [\"PostId\"], suffixes=('_pst', '_cmn'))\\\n",
    ".groupby(\"Title\")[\"Title\"].count().sort_values(ascending=False).to_frame().rename(columns={\"Title\":\"CommentsCount\"})"
   ]
  },
  {
   "cell_type": "code",
   "execution_count": 104,
   "id": "ce3e34d1",
   "metadata": {},
   "outputs": [],
   "source": [
    "posts_comments[\"RankCountCom\"]=posts_comments[\"CommentsCount\"].rank(ascending=False, method='dense')"
   ]
  },
  {
   "cell_type": "code",
   "execution_count": 105,
   "id": "5aef219d",
   "metadata": {},
   "outputs": [],
   "source": [
    "ezer = posts_comments[\"RankCountCom\"]==1\n"
   ]
  },
  {
   "cell_type": "code",
   "execution_count": 106,
   "id": "42c147f0",
   "metadata": {},
   "outputs": [
    {
     "data": {
      "text/html": [
       "<div>\n",
       "<style scoped>\n",
       "    .dataframe tbody tr th:only-of-type {\n",
       "        vertical-align: middle;\n",
       "    }\n",
       "\n",
       "    .dataframe tbody tr th {\n",
       "        vertical-align: top;\n",
       "    }\n",
       "\n",
       "    .dataframe thead th {\n",
       "        text-align: right;\n",
       "    }\n",
       "</style>\n",
       "<table border=\"1\" class=\"dataframe\">\n",
       "  <thead>\n",
       "    <tr style=\"text-align: right;\">\n",
       "      <th></th>\n",
       "      <th>CommentsCount</th>\n",
       "      <th>RankCountCom</th>\n",
       "    </tr>\n",
       "    <tr>\n",
       "      <th>Title</th>\n",
       "      <th></th>\n",
       "      <th></th>\n",
       "    </tr>\n",
       "  </thead>\n",
       "  <tbody>\n",
       "    <tr>\n",
       "      <th>How do the 'frozen goods' survive the banana stand fire?</th>\n",
       "      <td>5</td>\n",
       "      <td>1.0</td>\n",
       "    </tr>\n",
       "    <tr>\n",
       "      <th>In Iron Man, why is Tony Stark fooled for so long?</th>\n",
       "      <td>5</td>\n",
       "      <td>1.0</td>\n",
       "    </tr>\n",
       "    <tr>\n",
       "      <th>How does the budget breakdown for a US TV season compare to a UK TV Season?</th>\n",
       "      <td>5</td>\n",
       "      <td>1.0</td>\n",
       "    </tr>\n",
       "    <tr>\n",
       "      <th>Plot summaries for the other two movies related to Moon</th>\n",
       "      <td>5</td>\n",
       "      <td>1.0</td>\n",
       "    </tr>\n",
       "    <tr>\n",
       "      <th>Old movie about two pilots and a cheating wife</th>\n",
       "      <td>5</td>\n",
       "      <td>1.0</td>\n",
       "    </tr>\n",
       "    <tr>\n",
       "      <th>Who nukes the USA in The Divide?</th>\n",
       "      <td>5</td>\n",
       "      <td>1.0</td>\n",
       "    </tr>\n",
       "    <tr>\n",
       "      <th>Why doesn’t Shosanna try to kill Fredrick?</th>\n",
       "      <td>5</td>\n",
       "      <td>1.0</td>\n",
       "    </tr>\n",
       "    <tr>\n",
       "      <th>Aliens took over the satellite</th>\n",
       "      <td>5</td>\n",
       "      <td>1.0</td>\n",
       "    </tr>\n",
       "    <tr>\n",
       "      <th>How much money did it take to run \"The Sting\"?</th>\n",
       "      <td>5</td>\n",
       "      <td>1.0</td>\n",
       "    </tr>\n",
       "    <tr>\n",
       "      <th>What is Jerusalem worth?</th>\n",
       "      <td>5</td>\n",
       "      <td>1.0</td>\n",
       "    </tr>\n",
       "  </tbody>\n",
       "</table>\n",
       "</div>"
      ],
      "text/plain": [
       "                                                    CommentsCount  \\\n",
       "Title                                                               \n",
       "How do the 'frozen goods' survive the banana st...              5   \n",
       "In Iron Man, why is Tony Stark fooled for so long?              5   \n",
       "How does the budget breakdown for a US TV seaso...              5   \n",
       "Plot summaries for the other two movies related...              5   \n",
       "Old movie about two pilots and a cheating wife                  5   \n",
       "Who nukes the USA in The Divide?                                5   \n",
       "Why doesn’t Shosanna try to kill Fredrick?                      5   \n",
       "Aliens took over the satellite                                  5   \n",
       "How much money did it take to run \"The Sting\"?                  5   \n",
       "What is Jerusalem worth?                                        5   \n",
       "\n",
       "                                                    RankCountCom  \n",
       "Title                                                             \n",
       "How do the 'frozen goods' survive the banana st...           1.0  \n",
       "In Iron Man, why is Tony Stark fooled for so long?           1.0  \n",
       "How does the budget breakdown for a US TV seaso...           1.0  \n",
       "Plot summaries for the other two movies related...           1.0  \n",
       "Old movie about two pilots and a cheating wife               1.0  \n",
       "Who nukes the USA in The Divide?                             1.0  \n",
       "Why doesn’t Shosanna try to kill Fredrick?                   1.0  \n",
       "Aliens took over the satellite                               1.0  \n",
       "How much money did it take to run \"The Sting\"?               1.0  \n",
       "What is Jerusalem worth?                                     1.0  "
      ]
     },
     "execution_count": 106,
     "metadata": {},
     "output_type": "execute_result"
    }
   ],
   "source": [
    "posts_comments[ezer]"
   ]
  },
  {
   "cell_type": "markdown",
   "id": "b56344f0",
   "metadata": {},
   "source": [
    "##### 6. How many hours in average, it takes to the first comment to be posted after a creation of a new post"
   ]
  },
  {
   "cell_type": "code",
   "execution_count": 108,
   "id": "aec4e694",
   "metadata": {},
   "outputs": [],
   "source": [
    "min_comments = comments.groupby(\"PostId\")[[\"CreationDate\"]].min()"
   ]
  },
  {
   "cell_type": "code",
   "execution_count": 109,
   "id": "611a6102",
   "metadata": {},
   "outputs": [],
   "source": [
    "comment_post = posts.merge(min_comments, how=\"inner\", left_index=True,right_index=True, suffixes=('_pst', '_cmn'))\\\n",
    "[[\"Title\",\"CreationDate_pst\",\"CreationDate_cmn\"]]"
   ]
  },
  {
   "cell_type": "code",
   "execution_count": 150,
   "id": "8d2e763d",
   "metadata": {},
   "outputs": [
    {
     "data": {
      "text/plain": [
       "7.0"
      ]
     },
     "execution_count": 150,
     "metadata": {},
     "output_type": "execute_result"
    }
   ],
   "source": [
    "comment_post[\"time_diff\"]= (comment_post[\"CreationDate_cmn\"]-comment_post[\"CreationDate_pst\"]) / np.timedelta64(1, 'h')\n",
    "np.round(comment_post[\"time_diff\"].mean())\n"
   ]
  },
  {
   "cell_type": "markdown",
   "id": "46f3e713",
   "metadata": {},
   "source": [
    "###### 7. Whats the most common post tag?\n"
   ]
  },
  {
   "cell_type": "code",
   "execution_count": 170,
   "id": "14781ed4",
   "metadata": {},
   "outputs": [
    {
     "data": {
      "text/html": [
       "<div>\n",
       "<style scoped>\n",
       "    .dataframe tbody tr th:only-of-type {\n",
       "        vertical-align: middle;\n",
       "    }\n",
       "\n",
       "    .dataframe tbody tr th {\n",
       "        vertical-align: top;\n",
       "    }\n",
       "\n",
       "    .dataframe thead th {\n",
       "        text-align: right;\n",
       "    }\n",
       "</style>\n",
       "<table border=\"1\" class=\"dataframe\">\n",
       "  <thead>\n",
       "    <tr style=\"text-align: right;\">\n",
       "      <th></th>\n",
       "      <th>Tag</th>\n",
       "    </tr>\n",
       "    <tr>\n",
       "      <th>Tag</th>\n",
       "      <th></th>\n",
       "    </tr>\n",
       "  </thead>\n",
       "  <tbody>\n",
       "    <tr>\n",
       "      <th>plot-explanation</th>\n",
       "      <td>665</td>\n",
       "    </tr>\n",
       "  </tbody>\n",
       "</table>\n",
       "</div>"
      ],
      "text/plain": [
       "                  Tag\n",
       "Tag                  \n",
       "plot-explanation  665"
      ]
     },
     "execution_count": 170,
     "metadata": {},
     "output_type": "execute_result"
    }
   ],
   "source": [
    "l= (posts['Tags'].str.split('><'))\n",
    "new = []\n",
    "for sublist in l:\n",
    "    for item in sublist:\n",
    "        new.append(item)\n",
    "ezer = pd.Series(new).str.replace(\"<\",\"\").str.replace(\">\",\"\").to_frame()\n",
    "ezer.columns = ['Tag']\n",
    "ezer.groupby('Tag')['Tag'].count().sort_values(ascending=False).to_frame().head(1)"
   ]
  },
  {
   "cell_type": "markdown",
   "id": "b1ee3061",
   "metadata": {},
   "source": [
    "##### 8. Create a pivot table displaying how many posts were created for each year (Y axis) and each month (X axis) "
   ]
  },
  {
   "cell_type": "code",
   "execution_count": 171,
   "id": "5972d4ab",
   "metadata": {},
   "outputs": [],
   "source": [
    "posts[\"Year_Create\"]=posts[\"CreationDate\"].dt.year\n",
    "posts[\"Month_Create\"]=posts[\"CreationDate\"].dt.month"
   ]
  },
  {
   "cell_type": "code",
   "execution_count": 172,
   "id": "0e9339ab",
   "metadata": {},
   "outputs": [],
   "source": [
    "pvt_posts=posts.pivot_table(index=\"Year_Create\",columns=\"Month_Create\",values=\"Title\",aggfunc=\"count\")"
   ]
  },
  {
   "cell_type": "code",
   "execution_count": 174,
   "id": "32a5dbaa",
   "metadata": {},
   "outputs": [
    {
     "data": {
      "text/html": [
       "<div>\n",
       "<style scoped>\n",
       "    .dataframe tbody tr th:only-of-type {\n",
       "        vertical-align: middle;\n",
       "    }\n",
       "\n",
       "    .dataframe tbody tr th {\n",
       "        vertical-align: top;\n",
       "    }\n",
       "\n",
       "    .dataframe thead th {\n",
       "        text-align: right;\n",
       "    }\n",
       "</style>\n",
       "<table border=\"1\" class=\"dataframe\">\n",
       "  <thead>\n",
       "    <tr style=\"text-align: right;\">\n",
       "      <th>Month_Create</th>\n",
       "      <th>1</th>\n",
       "      <th>2</th>\n",
       "      <th>3</th>\n",
       "      <th>4</th>\n",
       "      <th>5</th>\n",
       "      <th>6</th>\n",
       "      <th>7</th>\n",
       "      <th>8</th>\n",
       "      <th>9</th>\n",
       "      <th>10</th>\n",
       "      <th>11</th>\n",
       "      <th>12</th>\n",
       "    </tr>\n",
       "    <tr>\n",
       "      <th>Year_Create</th>\n",
       "      <th></th>\n",
       "      <th></th>\n",
       "      <th></th>\n",
       "      <th></th>\n",
       "      <th></th>\n",
       "      <th></th>\n",
       "      <th></th>\n",
       "      <th></th>\n",
       "      <th></th>\n",
       "      <th></th>\n",
       "      <th></th>\n",
       "      <th></th>\n",
       "    </tr>\n",
       "  </thead>\n",
       "  <tbody>\n",
       "    <tr>\n",
       "      <th>2011</th>\n",
       "      <td>NaN</td>\n",
       "      <td>NaN</td>\n",
       "      <td>NaN</td>\n",
       "      <td>NaN</td>\n",
       "      <td>NaN</td>\n",
       "      <td>NaN</td>\n",
       "      <td>NaN</td>\n",
       "      <td>NaN</td>\n",
       "      <td>NaN</td>\n",
       "      <td>1.0</td>\n",
       "      <td>15.0</td>\n",
       "      <td>140.0</td>\n",
       "    </tr>\n",
       "    <tr>\n",
       "      <th>2012</th>\n",
       "      <td>92.0</td>\n",
       "      <td>72.0</td>\n",
       "      <td>62.0</td>\n",
       "      <td>88.0</td>\n",
       "      <td>93.0</td>\n",
       "      <td>105.0</td>\n",
       "      <td>105.0</td>\n",
       "      <td>81.0</td>\n",
       "      <td>60.0</td>\n",
       "      <td>75.0</td>\n",
       "      <td>77.0</td>\n",
       "      <td>155.0</td>\n",
       "    </tr>\n",
       "    <tr>\n",
       "      <th>2013</th>\n",
       "      <td>129.0</td>\n",
       "      <td>99.0</td>\n",
       "      <td>107.0</td>\n",
       "      <td>92.0</td>\n",
       "      <td>130.0</td>\n",
       "      <td>120.0</td>\n",
       "      <td>134.0</td>\n",
       "      <td>143.0</td>\n",
       "      <td>64.0</td>\n",
       "      <td>NaN</td>\n",
       "      <td>NaN</td>\n",
       "      <td>NaN</td>\n",
       "    </tr>\n",
       "  </tbody>\n",
       "</table>\n",
       "</div>"
      ],
      "text/plain": [
       "Month_Create     1     2      3     4      5      6      7      8     9   \\\n",
       "Year_Create                                                                \n",
       "2011            NaN   NaN    NaN   NaN    NaN    NaN    NaN    NaN   NaN   \n",
       "2012           92.0  72.0   62.0  88.0   93.0  105.0  105.0   81.0  60.0   \n",
       "2013          129.0  99.0  107.0  92.0  130.0  120.0  134.0  143.0  64.0   \n",
       "\n",
       "Month_Create    10    11     12  \n",
       "Year_Create                      \n",
       "2011           1.0  15.0  140.0  \n",
       "2012          75.0  77.0  155.0  \n",
       "2013           NaN   NaN    NaN  "
      ]
     },
     "execution_count": 174,
     "metadata": {},
     "output_type": "execute_result"
    }
   ],
   "source": [
    "pvt_posts.head()"
   ]
  },
  {
   "cell_type": "code",
   "execution_count": null,
   "id": "b2fc4732",
   "metadata": {},
   "outputs": [],
   "source": []
  }
 ],
 "metadata": {
  "kernelspec": {
   "display_name": "Python 3",
   "language": "python",
   "name": "python3"
  },
  "language_info": {
   "codemirror_mode": {
    "name": "ipython",
    "version": 3
   },
   "file_extension": ".py",
   "mimetype": "text/x-python",
   "name": "python",
   "nbconvert_exporter": "python",
   "pygments_lexer": "ipython3",
   "version": "3.6.5"
  }
 },
 "nbformat": 4,
 "nbformat_minor": 5
}
